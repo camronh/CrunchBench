{
 "cells": [
  {
   "cell_type": "markdown",
   "metadata": {},
   "source": [
    "# Run CrunchBench\n",
    "\n",
    "This notebook makes it easy to run the CrunchBench evals and visualize the results."
   ]
  },
  {
   "cell_type": "markdown",
   "metadata": {},
   "source": [
    "### Step 1: Select a model\n",
    "\n",
    "First we want to [choose a model from OpenRouter](https://openrouter.ai/models). OpenRouter makes it easy to switch between models and providers under 1 API and pricing plan. Simply choose a model and copy the model name. \n",
    "\n"
   ]
  },
  {
   "cell_type": "code",
   "execution_count": 1,
   "metadata": {},
   "outputs": [],
   "source": [
    "# OpenRouter models that have been evaluated\n",
    "\n",
    "mini = \"openai/gpt-4o-mini\"\n",
    "gpt4o = \"openai/gpt-4o-2024-11-20\"\n",
    "deepseek = \"deepseek/deepseek-chat\"\n",
    "llama3 = \"meta-llama/llama-3.3-70b-instruct\"\n",
    "\n",
    "\n",
    "# OpenRouter models to evaluate next\n",
    "flash = \"google/gemini-2.0-flash-exp:free\"\n",
    "qwen = \"qwen/qvq-72b-preview\""
   ]
  },
  {
   "cell_type": "markdown",
   "metadata": {},
   "source": [
    "### Step 2: Run the evals\n",
    "\n",
    "Customize the evaluation parameters and run the evals\n",
    "\n",
    "You can customize the:\n",
    "- `moodel_name` - The OpenRouter model string verbatim\n",
    "- `custom_label` - Allows you to set a specific label to save the results under. For example \"DeepSeek V3\"\n",
    "- `max_concurrency` - Adjust the number of concurrent requests to the model to prevent rate limiting.\n"
   ]
  },
  {
   "cell_type": "code",
   "execution_count": null,
   "metadata": {},
   "outputs": [],
   "source": [
    "from evaluation import run_evals\n",
    "\n",
    "results = run_evals(flash, max_concurrency=1)"
   ]
  },
  {
   "cell_type": "markdown",
   "metadata": {},
   "source": [
    "### Step 3: Visualize the results\n",
    "\n",
    "Visualize the results with the `visualize_results` function.\n"
   ]
  },
  {
   "cell_type": "code",
   "execution_count": null,
   "metadata": {},
   "outputs": [],
   "source": [
    "from visualize import visualize_results\n",
    "\n",
    "visualize_results()"
   ]
  }
 ],
 "metadata": {
  "kernelspec": {
   "display_name": "analytics-bench-8APEtm7X-py3.10",
   "language": "python",
   "name": "python3"
  },
  "language_info": {
   "codemirror_mode": {
    "name": "ipython",
    "version": 3
   },
   "file_extension": ".py",
   "mimetype": "text/x-python",
   "name": "python",
   "nbconvert_exporter": "python",
   "pygments_lexer": "ipython3",
   "version": "3.10.6"
  }
 },
 "nbformat": 4,
 "nbformat_minor": 2
}
